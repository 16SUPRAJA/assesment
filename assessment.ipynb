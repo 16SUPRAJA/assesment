{
 "cells": [
  {
   "cell_type": "code",
   "execution_count": 54,
   "id": "21bd4143",
   "metadata": {},
   "outputs": [
    {
     "name": "stdout",
     "output_type": "stream",
     "text": [
      "{'abc': ['def', 'ghi', 'jkl', 'mno', 'pqr', 'stu', 'vwx', 'yz'],\n",
      " 'def': ['ghi', 'jkl', 'mno', 'pqr', 'stu', 'vwx', 'yz'],\n",
      " 'ghi': ['jkl', 'mno', 'pqr', 'stu', 'vwx', 'yz'],\n",
      " 'jkl': ['mno', 'pqr', 'stu', 'vwx', 'yz'],\n",
      " 'mno': ['pqr', 'stu', 'vwx', 'yz'],\n",
      " 'pqr': ['stu', 'vwx', 'yz'],\n",
      " 'stu': ['vwx', 'yz'],\n",
      " 'vwx': ['yz'],\n",
      " 'yz': ['you are finally here !!!']}\n"
     ]
    }
   ],
   "source": [
    "from pprint import pprint\n",
    "\n",
    "input_dict = {\"abc\":{\"def\":{\"ghi\":{\"jkl\":{\"mno\":{\"pqr\":{\"stu\":{\"vwx\":{\"yz\":\"you are finally here !!!\"}}}}}}}}}\n",
    "\n",
    "def pattern(input_dict):\n",
    "    dictt = {}\n",
    "    for k, v in input_dict.items():\n",
    "        if isinstance(v, dict):   #v==dict:\n",
    "            d = pattern(v)\n",
    "            dictt.update(d)\n",
    "            dictt[k] = list(reversed(d))\n",
    "        else:\n",
    "            dictt[k] = [v]\n",
    "    return dictt\n",
    "\n",
    "pprint(pattern(data))"
   ]
  },
  {
   "cell_type": "markdown",
   "id": "df23148e",
   "metadata": {},
   "source": [
    "Given an array of length ‘N’, where each element denotes the position of a stall. Now you have ‘N’ stalls and an integer ‘K’ which denotes the number of horses that are mad. To prevent the horses from hurting each other, you need to assign the horses to the stalls, such that the minimum distance between any two of them is as large as possible. Return the largest minimum distance.\n",
    "\n",
    "array: 1,2,4,8,9  &  k=3"
   ]
  },
  {
   "cell_type": "code",
   "execution_count": 60,
   "id": "7d862494",
   "metadata": {},
   "outputs": [
    {
     "name": "stdout",
     "output_type": "stream",
     "text": [
      "3\n"
     ]
    }
   ],
   "source": [
    "def ok(v,x,c):\n",
    "    n=len(v)\n",
    "    count=1\n",
    "    d=v[0]\n",
    "    for i in range(1,n):\n",
    "        if(v[i]-d>=x):\n",
    "            d=v[i]\n",
    "            count=count+1\n",
    "        else:\n",
    "            continue\n",
    "    if(count>=c):\n",
    "        return True\n",
    "     \n",
    "    return False\n",
    "def aggressive_horses(v,n,k):\n",
    "    ans=-1\n",
    "    maxi=0\n",
    "    for i in range(n):\n",
    "        maxi=max(maxi,v[i])\n",
    "     \n",
    "    # Loop from 1 to max limit of the\n",
    "    # stall length (here = 10^9)\n",
    "     \n",
    "    for i in range(1,maxi+1):\n",
    "        if(ok(v,i,k)):\n",
    "            ans=i\n",
    "        else:\n",
    "            break\n",
    "     \n",
    "    return ans\n",
    "     \n",
    "\n",
    "K=3\n",
    "arr=[1,2,4,8,9]\n",
    "N=len(arr)\n",
    " \n",
    "# Function call\n",
    "ans=aggressive_horses(arr,N,K)\n",
    "print(ans)"
   ]
  },
  {
   "cell_type": "markdown",
   "id": "1a110841",
   "metadata": {},
   "source": [
    "What is correlation? Give an example with a dataset & graphical representation on jupyter Notebook"
   ]
  },
  {
   "cell_type": "markdown",
   "id": "e0cc50db",
   "metadata": {},
   "source": [
    "Correlation refers to the statistical relationship between the two entities. It measures the extent to which two variables are linearly related. For example, the height and weight of a person are related, and taller people tend to be heavier than shorter people."
   ]
  },
  {
   "cell_type": "code",
   "execution_count": null,
   "id": "b3387922",
   "metadata": {},
   "outputs": [],
   "source": [
    "import pandas as pd\n",
    "con = pd.read_csv('Data/ConcreteStrength.csv')\n",
    "con\n",
    "list(con.columns)\n",
    "con.rename(columns={'Fly ash': 'FlyAsh', 'Coarse Aggr.': \"CoarseAgg\",\n",
    "                    'Fine Aggr.': 'FineAgg', 'Air Entrainment': 'AirEntrain', \n",
    "                    'Compressive Strength (28-day)(Mpa)': 'Strength'}, inplace=True)\n",
    "con.head()\n",
    "con['AirEntrain'] = con['AirEntrain'].astype('category')\n",
    "con.describe(include='category')\n",
    "list(con.columns)\n",
    "import seaborn as sns\n",
    "sns.scatterplot(x=\"FlyAsh\", y=\"Strength\", data=con);\n",
    "ax = sns.scatterplot(x=\"FlyAsh\", y=\"Strength\", data=con)\n",
    "ax.set_title(\"Concrete Strength vs. Fly ash\")\n",
    "ax.set_xlabel(\"Fly ash\");\n",
    "sns.lmplot(x=\"FlyAsh\", y=\"Strength\", data=con);\n",
    "sns.lmplot(x=\"FlyAsh\", y=\"Strength\", hue=\"AirEntrain\", data=con);\n",
    "from scipy import stats\n",
    "stats.pearsonr(con['Strength'], con['FlyAsh'])\n",
    "cormat = con.corr()\n",
    "round(cormat,2)\n",
    "sns.heatmap(cormat);"
   ]
  },
  {
   "cell_type": "code",
   "execution_count": null,
   "id": "09c72b52",
   "metadata": {},
   "outputs": [],
   "source": [
    "use ineuron;\n",
    "create table runners\n",
    "(\n",
    "id int,\n",
    "name varchar(25),\n",
    "primary key(id)\n",
    ");\n",
    "create table races\n",
    "(\n",
    "id int,\n",
    "event varchar(25),\n",
    "winner_id int,\n",
    "foreign key (id) references runners(id)\n",
    ");\n",
    "insert into runners values (1,'john doe'),(2,'jane doe'),(3,'alice jones'),(4,'bobby louis'),(5,\"lisa romero\");\n",
    "insert into races values (1,'100 meter dash',2),(2,'500 meter dash',3),(3,'cross-country',2),(4,\"trithalon\",Null);\n",
    "SELECT * FROM runners WHERE id NOT IN (SELECT winner_id FROM races);\n",
    "#The above query will return nothing because the races table contain null winner_id \n",
    "SELECT * FROM runners \n",
    "WHERE id NOT IN \n",
    "      (SELECT winner_id FROM races WHERE winner_id IS NOT NULL);\n",
    "\n",
    "\n",
    "create table test_a(id int);\n",
    "create table test_b(id int);\n",
    "insert into test_a values (10),(20),(30),(40),(50);\n",
    "insert into test_b values (10),(30),(50);\n",
    "select * from test_a left join test_b on test_a.id=test_b.id\n",
    "where test_b.id is null;\n",
    "\n",
    "\n",
    "\n",
    "\n",
    "drop table users;\n",
    "create table users\n",
    "(\n",
    "user_id int,\n",
    "username varchar(25),\n",
    "primary key(user_id)\n",
    ");\n",
    "insert into users values (1,'john doe'),(2,'jane don'),(3,'alice jones'),(4,\"lisa romero\");\n",
    "create table training_details\n",
    "(\n",
    "user_training_id int,\n",
    "user_id int,\n",
    "training_id int,\n",
    "training_date date,\n",
    "foreign key(user_id) references users(user_id)\n",
    ");\n",
    "insert into training_details values (1,1,1,\"2015-08-02\"),(2,2,1,\"2015-08-03\"),(3,3,2,\"2015-08-02\"),(4,4,2,\"2015-08-04\"),(5,2,2,\"2015-08-03\"),\n",
    "(6,1,1,\"2015-08-02\"),(7,3,2,\"2015-08-04\"),(8,4,3,\"2015-08-03\"),(9,1,4,\"2015-08-03\"),(10,3,1,\"2015-08-02\"),(11,4,2,\"2015-08-04\"),(12,3,2,\"2015-08-02\"),\n",
    "(13,1,1,\"2015-08-02\"),(14,4,3,\"2015-08-03\");\n",
    "\n",
    "SELECT username, training_date\n",
    "FROM users \n",
    "INNER JOIN training_details  ON(users.user_id = training_details.user_id)\n",
    "GROUP BY username, training_date\n",
    "HAVING COUNT(*) > 1\n",
    "ORDER BY username, training_date DESC;\n",
    "\n",
    "drop table Employee;\n",
    "create table Employee \n",
    "(emp_id int,\n",
    "emp_name varchar(25),\n",
    "salary int,      \n",
    "manager_id int);\n",
    "\n",
    "insert into Employee values (10,'Anil',50000,18),(11,'Vikas',75000,16),(12,'Nisha',40000,18),(13,'Nidhi',60000,17),(14,'Priya',80000,18),\n",
    "(15,'Mohit',45000,18),(16,'Rajesh',90000,NULL),(17,'Raman',55000,16),(18,'Santosh',65000,17);\n",
    "\n",
    "\n",
    "SELECT  e1.Manager_id , e2.emp_name as Manager ,AVG(e1.Salary) as Average_Salary_Under_manager\n",
    "FROM Employee e1\n",
    "INNER JOIN Employee e2 ON e1.Manager_id = e2.emp_id\n",
    "WHERE e1.Manager_id IS NOT NULL\n",
    "GROUP BY e1.Manager_id , e2.emp_name;\n",
    "\n",
    "\n"
   ]
  }
 ],
 "metadata": {
  "kernelspec": {
   "display_name": "Python 3 (ipykernel)",
   "language": "python",
   "name": "python3"
  },
  "language_info": {
   "codemirror_mode": {
    "name": "ipython",
    "version": 3
   },
   "file_extension": ".py",
   "mimetype": "text/x-python",
   "name": "python",
   "nbconvert_exporter": "python",
   "pygments_lexer": "ipython3",
   "version": "3.11.4"
  }
 },
 "nbformat": 4,
 "nbformat_minor": 5
}
